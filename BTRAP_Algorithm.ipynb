{
 "cells": [
  {
   "cell_type": "markdown",
   "id": "835813a4",
   "metadata": {},
   "source": [
    "\n",
    "# Lane Change Initiation Detection using Lateral Position (NGSIM Data)\n",
    "This notebook detects the initiation of lane change events using lateral position data.\n",
    "The goal is to identify where lane changes start based on position data from NGSIM datasets.\n"
   ]
  },
  {
   "cell_type": "code",
   "execution_count": null,
   "id": "263c88d1",
   "metadata": {},
   "outputs": [],
   "source": [
    "\n",
    "import pandas as pd\n",
    "import matplotlib.pyplot as plt\n",
    "from scipy.signal import savgol_filter\n",
    "from pathlib import Path\n",
    "\n",
    "# Configuration\n",
    "DATA_PATH = Path('data/follower_decision_sorted_merged_lane_changing.csv')\n",
    "OUTPUT_CSV = Path('output/lane_change_initiation_points.csv')\n",
    "SMOOTH_WINDOW = 100\n",
    "POLY_ORDER = 2\n",
    "LATERAL_THRESHOLD = 0.01\n",
    "VEHICLE_SAMPLE = slice(7, 10)  # Modify this range to plot more/other vehicles\n"
   ]
  },
  {
   "cell_type": "code",
   "execution_count": null,
   "id": "5ae5bced",
   "metadata": {},
   "outputs": [],
   "source": [
    "\n",
    "def load_data(file_path):\n",
    "    df = pd.read_csv(file_path)\n",
    "    df['frame_number'] = pd.to_numeric(df['frame_number'], errors='coerce')\n",
    "    df['lateral_position'] = pd.to_numeric(df['lateral_position'], errors='coerce')\n",
    "    return df\n"
   ]
  },
  {
   "cell_type": "code",
   "execution_count": null,
   "id": "82d8b288",
   "metadata": {},
   "outputs": [],
   "source": [
    "\n",
    "def apply_smoothing(df, column='lateral_position', new_col='smoothed_lateral_position'):\n",
    "    df[new_col] = savgol_filter(df[column], window_length=SMOOTH_WINDOW, polyorder=POLY_ORDER)\n",
    "    return df\n"
   ]
  },
  {
   "cell_type": "code",
   "execution_count": null,
   "id": "8748895f",
   "metadata": {},
   "outputs": [],
   "source": [
    "\n",
    "def find_lane_change_initiation(vehicle_df):\n",
    "    for idx in range(1, len(vehicle_df)):\n",
    "        if vehicle_df['lane_no_lane_change'].iloc[idx - 1] == 2 and vehicle_df['lane_no_lane_change'].iloc[idx] == 3:\n",
    "            lane_change_idx = idx\n",
    "            initial_index = lane_change_idx\n",
    "            for i in reversed(range(lane_change_idx)):\n",
    "                if abs(vehicle_df['smoothed_lateral_position'].iloc[i] -\n",
    "                       vehicle_df['smoothed_lateral_position'].iloc[initial_index]) > LATERAL_THRESHOLD:\n",
    "                    initial_index = i\n",
    "                else:\n",
    "                    break\n",
    "            return vehicle_df.iloc[initial_index]\n",
    "    return None\n"
   ]
  },
  {
   "cell_type": "code",
   "execution_count": null,
   "id": "a96b252b",
   "metadata": {},
   "outputs": [],
   "source": [
    "\n",
    "def detect_all_initiations(df):\n",
    "    initiation_points = []\n",
    "    for vehicle_id in df['vehicle_ID'].unique():\n",
    "        vehicle_df = df[df['vehicle_ID'] == vehicle_id].sort_values(by='frame_number')\n",
    "        initiation_point = find_lane_change_initiation(vehicle_df)\n",
    "        if initiation_point is not None:\n",
    "            initiation_points.append(initiation_point)\n",
    "    return pd.DataFrame(initiation_points)\n"
   ]
  },
  {
   "cell_type": "code",
   "execution_count": null,
   "id": "8a17bfd8",
   "metadata": {},
   "outputs": [],
   "source": [
    "\n",
    "def plot_vehicle_lane_changes(df, initiation_df, vehicle_ids):\n",
    "    fig, ax = plt.subplots(figsize=(10, 6))\n",
    "    for vehicle_id in vehicle_ids:\n",
    "        vehicle_df = df[df['vehicle_ID'] == vehicle_id].sort_values(by='frame_number')\n",
    "        initiation_df_vehicle = initiation_df[initiation_df['vehicle_ID'] == vehicle_id]\n",
    "        ax.plot(vehicle_df['frame_number'], vehicle_df['smoothed_lateral_position'], label=f'Vehicle {vehicle_id}')\n",
    "        if not initiation_df_vehicle.empty:\n",
    "            ax.scatter(initiation_df_vehicle['frame_number'],\n",
    "                       initiation_df_vehicle['lateral_position'],\n",
    "                       color='red', label=f'Initiation {vehicle_id}', zorder=5)\n",
    "    ax.set_xlabel('Frame')\n",
    "    ax.set_ylabel('Smoothed Lateral Position')\n",
    "    ax.set_title('Lane Change Initiation Points (Sample Vehicles)')\n",
    "    ax.legend()\n",
    "    plt.tight_layout()\n",
    "    plt.show()\n"
   ]
  },
  {
   "cell_type": "code",
   "execution_count": null,
   "id": "c2f25964",
   "metadata": {},
   "outputs": [],
   "source": [
    "\n",
    "# Create folders if they don't exist\n",
    "OUTPUT_CSV.parent.mkdir(parents=True, exist_ok=True)\n",
    "\n",
    "# Load and prepare data\n",
    "df = load_data(DATA_PATH)\n",
    "df = apply_smoothing(df)\n",
    "\n",
    "# Detect initiation points\n",
    "initiation_df = detect_all_initiations(df)\n",
    "\n",
    "# Plot results for sample vehicles\n",
    "sample_ids = df['vehicle_ID'].unique()[VEHICLE_SAMPLE]\n",
    "plot_vehicle_lane_changes(df, initiation_df, sample_ids)\n",
    "\n",
    "# Export to CSV\n",
    "initiation_df.to_csv(OUTPUT_CSV, index=False)\n",
    "print(\"Saved initiation points to:\", OUTPUT_CSV)\n",
    "initiation_df.head()\n"
   ]
  }
 ],
 "metadata": {
  "kernelspec": {
   "display_name": "Python 3 (ipykernel)",
   "language": "python",
   "name": "python3"
  },
  "language_info": {
   "codemirror_mode": {
    "name": "ipython",
    "version": 3
   },
   "file_extension": ".py",
   "mimetype": "text/x-python",
   "name": "python",
   "nbconvert_exporter": "python",
   "pygments_lexer": "ipython3",
   "version": "3.9.5"
  }
 },
 "nbformat": 4,
 "nbformat_minor": 5
}
