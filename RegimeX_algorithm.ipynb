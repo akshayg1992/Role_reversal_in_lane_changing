{
 "cells": [
  {
   "cell_type": "markdown",
   "id": "002f83c3",
   "metadata": {},
   "source": [
    "# Follower Decision Algorithm (Fixed 2-Second Window)\n",
    "This Jupyter notebook implements a simple algorithm to classify vehicle follower behavior (e.g., accelerate, decelerate, or do nothing) based on acceleration computed from speed data over fixed 2-second windows."
   ]
  },
  {
   "cell_type": "code",
   "execution_count": null,
   "id": "73670636",
   "metadata": {},
   "outputs": [],
   "source": [
    "import pandas as pd\n",
    "import numpy as np"
   ]
  },
  {
   "cell_type": "code",
   "execution_count": null,
   "id": "a87609f9",
   "metadata": {},
   "outputs": [],
   "source": [
    "# Load your dataset here\n",
    "# Example:\n",
    "# data = pd.read_csv('your_data.csv')\n"
   ]
  },
  {
   "cell_type": "code",
   "execution_count": null,
   "id": "6091aadb",
   "metadata": {},
   "outputs": [],
   "source": [
    "# Define the follower decision algorithm with a fixed 2-second window\n",
    "def process_follower_decision_fixed_window(data):\n",
    "    # Convert speed from ft/s to m/s\n",
    "    data['speed_m_s'] = data['follower_speed'] * 0.3048\n",
    "\n",
    "    # Initialize a column for decisions\n",
    "    data['follower_decision'] = 'Do nothing'  # Default decision\n",
    "\n",
    "    # Group by vehicle ID\n",
    "    grouped = data.groupby('follower_vehicle_ID')\n",
    "\n",
    "    for name, group in grouped:\n",
    "        if len(group) < 2:\n",
    "            print(f\"Skipping vehicle {name} with insufficient data points.\")\n",
    "            continue\n",
    "\n",
    "        # Calculate the acceleration\n",
    "        time_interval = 0.1  # Assuming 0.1-second intervals\n",
    "        acceleration_data_m_s2 = np.gradient(group['speed_m_s'], time_interval)\n",
    "\n",
    "        # Process decisions in 2-second windows\n",
    "        window_size = int(2 / time_interval)  # Number of points in 2 seconds\n",
    "        decisions = []\n",
    "\n",
    "        for i in range(0, len(acceleration_data_m_s2), window_size):\n",
    "            window_acceleration = acceleration_data_m_s2[i:i+window_size]\n",
    "            avg_acceleration = np.mean(window_acceleration)\n",
    "\n",
    "            # Classify the decision\n",
    "            if avg_acceleration > 0.5:\n",
    "                decision = 'Accelerate'\n",
    "            elif avg_acceleration < -0.5:\n",
    "                decision = 'Decelerate'\n",
    "            else:\n",
    "                decision = 'Do nothing'\n",
    "\n",
    "            decisions.extend([decision] * len(window_acceleration))\n",
    "\n",
    "        # Update the decision column\n",
    "        data.loc[group.index, 'follower_decision'] = decisions[:len(group)]\n",
    "\n",
    "    return data"
   ]
  },
  {
   "cell_type": "code",
   "execution_count": null,
   "id": "d97d0ddc",
   "metadata": {},
   "outputs": [],
   "source": [
    "# Apply the decision algorithm to the data\n",
    "processed_data = process_follower_decision_fixed_window(data)\n",
    "processed_data.head()"
   ]
  }
 ],
 "metadata": {
  "kernelspec": {
   "display_name": "Python 3 (ipykernel)",
   "language": "python",
   "name": "python3"
  },
  "language_info": {
   "codemirror_mode": {
    "name": "ipython",
    "version": 3
   },
   "file_extension": ".py",
   "mimetype": "text/x-python",
   "name": "python",
   "nbconvert_exporter": "python",
   "pygments_lexer": "ipython3",
   "version": "3.9.5"
  }
 },
 "nbformat": 4,
 "nbformat_minor": 5
}
